{
 "cells": [
  {
   "cell_type": "code",
   "execution_count": 0,
   "metadata": {
    "application/vnd.databricks.v1+cell": {
     "cellMetadata": {
      "byteLimit": 2048000,
      "rowLimit": 10000
     },
     "inputWidgets": {},
     "nuid": "bc263ef0-28de-451e-8e81-01d759b782fa",
     "showTitle": false,
     "tableResultSettingsMap": {},
     "title": ""
    }
   },
   "outputs": [],
   "source": [
    "%run \"../includes/configuration\""
   ]
  },
  {
   "cell_type": "code",
   "execution_count": 0,
   "metadata": {
    "application/vnd.databricks.v1+cell": {
     "cellMetadata": {
      "byteLimit": 2048000,
      "rowLimit": 10000
     },
     "inputWidgets": {},
     "nuid": "37932e43-b169-4706-bdd9-78e00bfb1423",
     "showTitle": false,
     "tableResultSettingsMap": {},
     "title": ""
    }
   },
   "outputs": [],
   "source": [
    "races_df = spark.read.parquet(f\"{processed_folder_path}/races\")"
   ]
  },
  {
   "cell_type": "code",
   "execution_count": 0,
   "metadata": {
    "application/vnd.databricks.v1+cell": {
     "cellMetadata": {
      "byteLimit": 2048000,
      "rowLimit": 10000
     },
     "inputWidgets": {},
     "nuid": "676556f3-514e-40f4-91b4-f509b7ade5ea",
     "showTitle": false,
     "tableResultSettingsMap": {},
     "title": ""
    }
   },
   "outputs": [],
   "source": [
    "races_filter_df1 = races_df.filter(\"race_year = 2019 AND round <= 5\")"
   ]
  },
  {
   "cell_type": "code",
   "execution_count": 0,
   "metadata": {
    "application/vnd.databricks.v1+cell": {
     "cellMetadata": {
      "byteLimit": 2048000,
      "rowLimit": 10000
     },
     "inputWidgets": {},
     "nuid": "83c9b1ca-6d35-47ca-96a3-7b3bf40fb42a",
     "showTitle": false,
     "tableResultSettingsMap": {},
     "title": ""
    }
   },
   "outputs": [
    {
     "output_type": "display_data",
     "data": {
      "text/html": [
       "<style scoped>\n",
       "  .table-result-container {\n",
       "    max-height: 300px;\n",
       "    overflow: auto;\n",
       "  }\n",
       "  table, th, td {\n",
       "    border: 1px solid black;\n",
       "    border-collapse: collapse;\n",
       "  }\n",
       "  th, td {\n",
       "    padding: 5px;\n",
       "  }\n",
       "  th {\n",
       "    text-align: left;\n",
       "  }\n",
       "</style><div class='table-result-container'><table class='table-result'><thead style='background-color: white'><tr><th>race_id</th><th>round</th><th>circuit_id</th><th>name</th><th>ingestion_date</th><th>race_timestamp</th><th>race_year</th></tr></thead><tbody><tr><td>1010</td><td>1</td><td>1</td><td>Australian Grand Prix</td><td>2024-12-19T09:58:10.903+0000</td><td>2019-03-17T05:10:00.000+0000</td><td>2019</td></tr><tr><td>1011</td><td>2</td><td>3</td><td>Bahrain Grand Prix</td><td>2024-12-19T09:58:10.903+0000</td><td>2019-03-31T15:10:00.000+0000</td><td>2019</td></tr><tr><td>1012</td><td>3</td><td>17</td><td>Chinese Grand Prix</td><td>2024-12-19T09:58:10.903+0000</td><td>2019-04-14T06:10:00.000+0000</td><td>2019</td></tr><tr><td>1013</td><td>4</td><td>73</td><td>Azerbaijan Grand Prix</td><td>2024-12-19T09:58:10.903+0000</td><td>2019-04-28T12:10:00.000+0000</td><td>2019</td></tr><tr><td>1014</td><td>5</td><td>4</td><td>Spanish Grand Prix</td><td>2024-12-19T09:58:10.903+0000</td><td>2019-05-12T13:10:00.000+0000</td><td>2019</td></tr></tbody></table></div>"
      ]
     },
     "metadata": {
      "application/vnd.databricks.v1+output": {
       "addedWidgets": {},
       "aggData": [],
       "aggError": "",
       "aggOverflow": false,
       "aggSchema": [],
       "aggSeriesLimitReached": false,
       "aggType": "",
       "arguments": {},
       "columnCustomDisplayInfos": {},
       "data": [
        [
         1010,
         1,
         1,
         "Australian Grand Prix",
         "2024-12-19T09:58:10.903+0000",
         "2019-03-17T05:10:00.000+0000",
         2019
        ],
        [
         1011,
         2,
         3,
         "Bahrain Grand Prix",
         "2024-12-19T09:58:10.903+0000",
         "2019-03-31T15:10:00.000+0000",
         2019
        ],
        [
         1012,
         3,
         17,
         "Chinese Grand Prix",
         "2024-12-19T09:58:10.903+0000",
         "2019-04-14T06:10:00.000+0000",
         2019
        ],
        [
         1013,
         4,
         73,
         "Azerbaijan Grand Prix",
         "2024-12-19T09:58:10.903+0000",
         "2019-04-28T12:10:00.000+0000",
         2019
        ],
        [
         1014,
         5,
         4,
         "Spanish Grand Prix",
         "2024-12-19T09:58:10.903+0000",
         "2019-05-12T13:10:00.000+0000",
         2019
        ]
       ],
       "datasetInfos": [],
       "dbfsResultPath": null,
       "isJsonSchema": true,
       "metadata": {},
       "overflow": false,
       "plotOptions": {
        "customPlotOptions": {},
        "displayType": "table",
        "pivotAggregation": null,
        "pivotColumns": null,
        "xColumns": null,
        "yColumns": null
       },
       "removedWidgets": [],
       "schema": [
        {
         "metadata": "{}",
         "name": "race_id",
         "type": "\"integer\""
        },
        {
         "metadata": "{}",
         "name": "round",
         "type": "\"integer\""
        },
        {
         "metadata": "{}",
         "name": "circuit_id",
         "type": "\"integer\""
        },
        {
         "metadata": "{}",
         "name": "name",
         "type": "\"string\""
        },
        {
         "metadata": "{}",
         "name": "ingestion_date",
         "type": "\"timestamp\""
        },
        {
         "metadata": "{}",
         "name": "race_timestamp",
         "type": "\"timestamp\""
        },
        {
         "metadata": "{}",
         "name": "race_year",
         "type": "\"integer\""
        }
       ],
       "type": "table"
      }
     },
     "output_type": "display_data"
    }
   ],
   "source": [
    "display(races_filter_df1)"
   ]
  },
  {
   "cell_type": "code",
   "execution_count": 0,
   "metadata": {
    "application/vnd.databricks.v1+cell": {
     "cellMetadata": {
      "byteLimit": 2048000,
      "rowLimit": 10000
     },
     "inputWidgets": {},
     "nuid": "d690c5a6-5d5d-4e28-a6ee-5e2576f7968e",
     "showTitle": false,
     "tableResultSettingsMap": {},
     "title": ""
    }
   },
   "outputs": [],
   "source": [
    "races_filter_df2 = races_df.filter((races_df.race_year == 2020) & (races_df.round <= 5))"
   ]
  },
  {
   "cell_type": "code",
   "execution_count": 0,
   "metadata": {
    "application/vnd.databricks.v1+cell": {
     "cellMetadata": {
      "byteLimit": 2048000,
      "rowLimit": 10000
     },
     "inputWidgets": {},
     "nuid": "7271c652-e66e-464e-a885-cb7a75f07c46",
     "showTitle": false,
     "tableResultSettingsMap": {},
     "title": ""
    }
   },
   "outputs": [
    {
     "output_type": "display_data",
     "data": {
      "text/html": [
       "<style scoped>\n",
       "  .table-result-container {\n",
       "    max-height: 300px;\n",
       "    overflow: auto;\n",
       "  }\n",
       "  table, th, td {\n",
       "    border: 1px solid black;\n",
       "    border-collapse: collapse;\n",
       "  }\n",
       "  th, td {\n",
       "    padding: 5px;\n",
       "  }\n",
       "  th {\n",
       "    text-align: left;\n",
       "  }\n",
       "</style><div class='table-result-container'><table class='table-result'><thead style='background-color: white'><tr><th>race_id</th><th>round</th><th>circuit_id</th><th>name</th><th>ingestion_date</th><th>race_timestamp</th><th>race_year</th></tr></thead><tbody><tr><td>1031</td><td>1</td><td>70</td><td>Austrian Grand Prix</td><td>2024-12-19T09:58:10.903+0000</td><td>2020-07-05T13:10:00.000+0000</td><td>2020</td></tr><tr><td>1032</td><td>2</td><td>70</td><td>Styrian Grand Prix</td><td>2024-12-19T09:58:10.903+0000</td><td>2020-07-12T13:10:00.000+0000</td><td>2020</td></tr><tr><td>1033</td><td>3</td><td>11</td><td>Hungarian Grand Prix</td><td>2024-12-19T09:58:10.903+0000</td><td>2020-07-19T13:10:00.000+0000</td><td>2020</td></tr><tr><td>1034</td><td>4</td><td>9</td><td>British Grand Prix</td><td>2024-12-19T09:58:10.903+0000</td><td>2020-08-02T13:10:00.000+0000</td><td>2020</td></tr><tr><td>1035</td><td>5</td><td>9</td><td>70th Anniversary Grand Prix</td><td>2024-12-19T09:58:10.903+0000</td><td>2020-08-09T13:10:00.000+0000</td><td>2020</td></tr></tbody></table></div>"
      ]
     },
     "metadata": {
      "application/vnd.databricks.v1+output": {
       "addedWidgets": {},
       "aggData": [],
       "aggError": "",
       "aggOverflow": false,
       "aggSchema": [],
       "aggSeriesLimitReached": false,
       "aggType": "",
       "arguments": {},
       "columnCustomDisplayInfos": {},
       "data": [
        [
         1031,
         1,
         70,
         "Austrian Grand Prix",
         "2024-12-19T09:58:10.903+0000",
         "2020-07-05T13:10:00.000+0000",
         2020
        ],
        [
         1032,
         2,
         70,
         "Styrian Grand Prix",
         "2024-12-19T09:58:10.903+0000",
         "2020-07-12T13:10:00.000+0000",
         2020
        ],
        [
         1033,
         3,
         11,
         "Hungarian Grand Prix",
         "2024-12-19T09:58:10.903+0000",
         "2020-07-19T13:10:00.000+0000",
         2020
        ],
        [
         1034,
         4,
         9,
         "British Grand Prix",
         "2024-12-19T09:58:10.903+0000",
         "2020-08-02T13:10:00.000+0000",
         2020
        ],
        [
         1035,
         5,
         9,
         "70th Anniversary Grand Prix",
         "2024-12-19T09:58:10.903+0000",
         "2020-08-09T13:10:00.000+0000",
         2020
        ]
       ],
       "datasetInfos": [],
       "dbfsResultPath": null,
       "isJsonSchema": true,
       "metadata": {},
       "overflow": false,
       "plotOptions": {
        "customPlotOptions": {},
        "displayType": "table",
        "pivotAggregation": null,
        "pivotColumns": null,
        "xColumns": null,
        "yColumns": null
       },
       "removedWidgets": [],
       "schema": [
        {
         "metadata": "{}",
         "name": "race_id",
         "type": "\"integer\""
        },
        {
         "metadata": "{}",
         "name": "round",
         "type": "\"integer\""
        },
        {
         "metadata": "{}",
         "name": "circuit_id",
         "type": "\"integer\""
        },
        {
         "metadata": "{}",
         "name": "name",
         "type": "\"string\""
        },
        {
         "metadata": "{}",
         "name": "ingestion_date",
         "type": "\"timestamp\""
        },
        {
         "metadata": "{}",
         "name": "race_timestamp",
         "type": "\"timestamp\""
        },
        {
         "metadata": "{}",
         "name": "race_year",
         "type": "\"integer\""
        }
       ],
       "type": "table"
      }
     },
     "output_type": "display_data"
    }
   ],
   "source": [
    "display(races_filter_df2)"
   ]
  }
 ],
 "metadata": {
  "application/vnd.databricks.v1+notebook": {
   "computePreferences": null,
   "dashboards": [],
   "environmentMetadata": {
    "base_environment": "",
    "client": "1"
   },
   "language": "python",
   "notebookMetadata": {
    "pythonIndentUnit": 4
   },
   "notebookName": "1.filter_demo",
   "widgets": {}
  },
  "language_info": {
   "name": "python"
  }
 },
 "nbformat": 4,
 "nbformat_minor": 0
}