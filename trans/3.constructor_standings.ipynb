{
 "cells": [
  {
   "cell_type": "markdown",
   "metadata": {
    "application/vnd.databricks.v1+cell": {
     "cellMetadata": {
      "byteLimit": 2048000,
      "rowLimit": 10000
     },
     "inputWidgets": {},
     "nuid": "e695d5ca-ea9b-4d6b-8b31-45461d61baf9",
     "showTitle": false,
     "tableResultSettingsMap": {},
     "title": ""
    }
   },
   "source": [
    "##### Produce construction standings"
   ]
  },
  {
   "cell_type": "code",
   "execution_count": 0,
   "metadata": {
    "application/vnd.databricks.v1+cell": {
     "cellMetadata": {
      "byteLimit": 2048000,
      "rowLimit": 10000
     },
     "inputWidgets": {},
     "nuid": "a805bb06-51d1-41b2-b65d-f8b8938edd9c",
     "showTitle": false,
     "tableResultSettingsMap": {},
     "title": ""
    }
   },
   "outputs": [],
   "source": [
    "%run \"../includes/configuration\""
   ]
  },
  {
   "cell_type": "code",
   "execution_count": 0,
   "metadata": {
    "application/vnd.databricks.v1+cell": {
     "cellMetadata": {
      "byteLimit": 2048000,
      "rowLimit": 10000
     },
     "inputWidgets": {},
     "nuid": "00890e4e-c093-476f-af7d-b1190dabaf87",
     "showTitle": false,
     "tableResultSettingsMap": {},
     "title": ""
    }
   },
   "outputs": [],
   "source": [
    "race_results_df = spark.read.parquet(f\"{presentation_folder_path}/race_results\")"
   ]
  },
  {
   "cell_type": "code",
   "execution_count": 0,
   "metadata": {
    "application/vnd.databricks.v1+cell": {
     "cellMetadata": {
      "byteLimit": 2048000,
      "rowLimit": 10000
     },
     "inputWidgets": {},
     "nuid": "6be532ba-f076-41c7-9b6c-df37f6a32448",
     "showTitle": false,
     "tableResultSettingsMap": {},
     "title": ""
    }
   },
   "outputs": [],
   "source": [
    "from pyspark.sql.functions import sum, when, count, col"
   ]
  },
  {
   "cell_type": "code",
   "execution_count": 0,
   "metadata": {
    "application/vnd.databricks.v1+cell": {
     "cellMetadata": {
      "byteLimit": 2048000,
      "rowLimit": 10000
     },
     "inputWidgets": {},
     "nuid": "32938b81-cd18-4867-9084-b0877193d2f7",
     "showTitle": false,
     "tableResultSettingsMap": {},
     "title": ""
    }
   },
   "outputs": [],
   "source": [
    "constructor_standings_df = race_results_df \\\n",
    ".groupBy(\"race_year\", \"team\") \\\n",
    ".agg(sum(\"points\").alias(\"total_points\"),\n",
    "     count(when(col(\"position\") == 1, True)).alias(\"wins\"))"
   ]
  },
  {
   "cell_type": "code",
   "execution_count": 0,
   "metadata": {
    "application/vnd.databricks.v1+cell": {
     "cellMetadata": {
      "byteLimit": 2048000,
      "rowLimit": 10000
     },
     "inputWidgets": {},
     "nuid": "735c9b8e-ecf0-44ef-a0cb-8ebdba5777ca",
     "showTitle": false,
     "tableResultSettingsMap": {},
     "title": ""
    }
   },
   "outputs": [
    {
     "output_type": "display_data",
     "data": {
      "text/html": [
       "<style scoped>\n",
       "  .table-result-container {\n",
       "    max-height: 300px;\n",
       "    overflow: auto;\n",
       "  }\n",
       "  table, th, td {\n",
       "    border: 1px solid black;\n",
       "    border-collapse: collapse;\n",
       "  }\n",
       "  th, td {\n",
       "    padding: 5px;\n",
       "  }\n",
       "  th {\n",
       "    text-align: left;\n",
       "  }\n",
       "</style><div class='table-result-container'><table class='table-result'><thead style='background-color: white'><tr><th>race_year</th><th>team</th><th>total_points</th><th>wins</th></tr></thead><tbody><tr><td>2020</td><td>Haas F1 Team</td><td>3.0</td><td>0</td></tr><tr><td>2020</td><td>McLaren</td><td>202.0</td><td>0</td></tr><tr><td>2020</td><td>Ferrari</td><td>131.0</td><td>0</td></tr><tr><td>2020</td><td>Mercedes</td><td>573.0</td><td>13</td></tr><tr><td>2020</td><td>AlphaTauri</td><td>107.0</td><td>1</td></tr><tr><td>2020</td><td>Williams</td><td>0.0</td><td>0</td></tr><tr><td>2020</td><td>Red Bull</td><td>319.0</td><td>2</td></tr><tr><td>2020</td><td>Alfa Romeo</td><td>8.0</td><td>0</td></tr><tr><td>2020</td><td>Racing Point</td><td>210.0</td><td>1</td></tr><tr><td>2020</td><td>Renault</td><td>181.0</td><td>0</td></tr></tbody></table></div>"
      ]
     },
     "metadata": {
      "application/vnd.databricks.v1+output": {
       "addedWidgets": {},
       "aggData": [],
       "aggError": "",
       "aggOverflow": false,
       "aggSchema": [],
       "aggSeriesLimitReached": false,
       "aggType": "",
       "arguments": {},
       "columnCustomDisplayInfos": {},
       "data": [
        [
         2020,
         "Haas F1 Team",
         3.0,
         0
        ],
        [
         2020,
         "McLaren",
         202.0,
         0
        ],
        [
         2020,
         "Ferrari",
         131.0,
         0
        ],
        [
         2020,
         "Mercedes",
         573.0,
         13
        ],
        [
         2020,
         "AlphaTauri",
         107.0,
         1
        ],
        [
         2020,
         "Williams",
         0.0,
         0
        ],
        [
         2020,
         "Red Bull",
         319.0,
         2
        ],
        [
         2020,
         "Alfa Romeo",
         8.0,
         0
        ],
        [
         2020,
         "Racing Point",
         210.0,
         1
        ],
        [
         2020,
         "Renault",
         181.0,
         0
        ]
       ],
       "datasetInfos": [],
       "dbfsResultPath": null,
       "isJsonSchema": true,
       "metadata": {},
       "overflow": false,
       "plotOptions": {
        "customPlotOptions": {},
        "displayType": "table",
        "pivotAggregation": null,
        "pivotColumns": null,
        "xColumns": null,
        "yColumns": null
       },
       "removedWidgets": [],
       "schema": [
        {
         "metadata": "{}",
         "name": "race_year",
         "type": "\"integer\""
        },
        {
         "metadata": "{}",
         "name": "team",
         "type": "\"string\""
        },
        {
         "metadata": "{}",
         "name": "total_points",
         "type": "\"double\""
        },
        {
         "metadata": "{}",
         "name": "wins",
         "type": "\"long\""
        }
       ],
       "type": "table"
      }
     },
     "output_type": "display_data"
    }
   ],
   "source": [
    "display(constructor_standings_df.filter(\"race_year = 2020\"))"
   ]
  },
  {
   "cell_type": "code",
   "execution_count": 0,
   "metadata": {
    "application/vnd.databricks.v1+cell": {
     "cellMetadata": {
      "byteLimit": 2048000,
      "rowLimit": 10000
     },
     "inputWidgets": {},
     "nuid": "5f4e51fa-243f-4739-8958-7eeca2d6cf09",
     "showTitle": false,
     "tableResultSettingsMap": {},
     "title": ""
    }
   },
   "outputs": [],
   "source": [
    "from pyspark.sql.window import Window\n",
    "from pyspark.sql.functions import desc, rank, asc"
   ]
  },
  {
   "cell_type": "code",
   "execution_count": 0,
   "metadata": {
    "application/vnd.databricks.v1+cell": {
     "cellMetadata": {
      "byteLimit": 2048000,
      "rowLimit": 10000
     },
     "inputWidgets": {},
     "nuid": "a4cb22ba-024b-487d-a331-0a80790c4be2",
     "showTitle": false,
     "tableResultSettingsMap": {},
     "title": ""
    }
   },
   "outputs": [],
   "source": [
    "constructor_rank_spec = Window.partitionBy(\"race_year\").orderBy(desc(\"total_points\"), desc(\"wins\"))\n",
    "final_df = constructor_standings_df.withColumn(\"rank\", rank().over(constructor_rank_spec))"
   ]
  },
  {
   "cell_type": "code",
   "execution_count": 0,
   "metadata": {
    "application/vnd.databricks.v1+cell": {
     "cellMetadata": {
      "byteLimit": 2048000,
      "rowLimit": 10000
     },
     "inputWidgets": {},
     "nuid": "be96df3d-a2ea-4d72-9719-2dee1d7e1f8e",
     "showTitle": false,
     "tableResultSettingsMap": {},
     "title": ""
    }
   },
   "outputs": [
    {
     "output_type": "display_data",
     "data": {
      "text/html": [
       "<style scoped>\n",
       "  .table-result-container {\n",
       "    max-height: 300px;\n",
       "    overflow: auto;\n",
       "  }\n",
       "  table, th, td {\n",
       "    border: 1px solid black;\n",
       "    border-collapse: collapse;\n",
       "  }\n",
       "  th, td {\n",
       "    padding: 5px;\n",
       "  }\n",
       "  th {\n",
       "    text-align: left;\n",
       "  }\n",
       "</style><div class='table-result-container'><table class='table-result'><thead style='background-color: white'><tr><th>race_year</th><th>team</th><th>total_points</th><th>wins</th><th>rank</th></tr></thead><tbody><tr><td>2020</td><td>Mercedes</td><td>573.0</td><td>13</td><td>1</td></tr><tr><td>2020</td><td>Red Bull</td><td>319.0</td><td>2</td><td>2</td></tr><tr><td>2020</td><td>Racing Point</td><td>210.0</td><td>1</td><td>3</td></tr><tr><td>2020</td><td>McLaren</td><td>202.0</td><td>0</td><td>4</td></tr><tr><td>2020</td><td>Renault</td><td>181.0</td><td>0</td><td>5</td></tr><tr><td>2020</td><td>Ferrari</td><td>131.0</td><td>0</td><td>6</td></tr><tr><td>2020</td><td>AlphaTauri</td><td>107.0</td><td>1</td><td>7</td></tr><tr><td>2020</td><td>Alfa Romeo</td><td>8.0</td><td>0</td><td>8</td></tr><tr><td>2020</td><td>Haas F1 Team</td><td>3.0</td><td>0</td><td>9</td></tr><tr><td>2020</td><td>Williams</td><td>0.0</td><td>0</td><td>10</td></tr></tbody></table></div>"
      ]
     },
     "metadata": {
      "application/vnd.databricks.v1+output": {
       "addedWidgets": {},
       "aggData": [],
       "aggError": "",
       "aggOverflow": false,
       "aggSchema": [],
       "aggSeriesLimitReached": false,
       "aggType": "",
       "arguments": {},
       "columnCustomDisplayInfos": {},
       "data": [
        [
         2020,
         "Mercedes",
         573.0,
         13,
         1
        ],
        [
         2020,
         "Red Bull",
         319.0,
         2,
         2
        ],
        [
         2020,
         "Racing Point",
         210.0,
         1,
         3
        ],
        [
         2020,
         "McLaren",
         202.0,
         0,
         4
        ],
        [
         2020,
         "Renault",
         181.0,
         0,
         5
        ],
        [
         2020,
         "Ferrari",
         131.0,
         0,
         6
        ],
        [
         2020,
         "AlphaTauri",
         107.0,
         1,
         7
        ],
        [
         2020,
         "Alfa Romeo",
         8.0,
         0,
         8
        ],
        [
         2020,
         "Haas F1 Team",
         3.0,
         0,
         9
        ],
        [
         2020,
         "Williams",
         0.0,
         0,
         10
        ]
       ],
       "datasetInfos": [],
       "dbfsResultPath": null,
       "isJsonSchema": true,
       "metadata": {},
       "overflow": false,
       "plotOptions": {
        "customPlotOptions": {},
        "displayType": "table",
        "pivotAggregation": null,
        "pivotColumns": null,
        "xColumns": null,
        "yColumns": null
       },
       "removedWidgets": [],
       "schema": [
        {
         "metadata": "{}",
         "name": "race_year",
         "type": "\"integer\""
        },
        {
         "metadata": "{}",
         "name": "team",
         "type": "\"string\""
        },
        {
         "metadata": "{}",
         "name": "total_points",
         "type": "\"double\""
        },
        {
         "metadata": "{}",
         "name": "wins",
         "type": "\"long\""
        },
        {
         "metadata": "{}",
         "name": "rank",
         "type": "\"integer\""
        }
       ],
       "type": "table"
      }
     },
     "output_type": "display_data"
    }
   ],
   "source": [
    "display(final_df.filter(\"race_year = 2020\"))"
   ]
  },
  {
   "cell_type": "code",
   "execution_count": 0,
   "metadata": {
    "application/vnd.databricks.v1+cell": {
     "cellMetadata": {
      "byteLimit": 2048000,
      "rowLimit": 10000
     },
     "inputWidgets": {},
     "nuid": "7a626dc2-52ca-4071-83c9-6035333f3d7a",
     "showTitle": false,
     "tableResultSettingsMap": {},
     "title": ""
    }
   },
   "outputs": [],
   "source": [
    "final_df.write.mode(\"overwrite\").parquet(f\"{presentation_folder_path}/constructor_standings\")"
   ]
  }
 ],
 "metadata": {
  "application/vnd.databricks.v1+notebook": {
   "computePreferences": null,
   "dashboards": [],
   "environmentMetadata": {
    "base_environment": "",
    "client": "1"
   },
   "language": "python",
   "notebookMetadata": {
    "pythonIndentUnit": 4
   },
   "notebookName": "3.constructor_standings",
   "widgets": {}
  },
  "language_info": {
   "name": "python"
  }
 },
 "nbformat": 4,
 "nbformat_minor": 0
}